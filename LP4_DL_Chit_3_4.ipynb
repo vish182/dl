{
 "cells": [
  {
   "cell_type": "markdown",
   "metadata": {},
   "source": [
    "3.\n",
    "Build Feedforward neural networks with Keras and TensorFlow for classification of CIFAR10 image dataset using the following steps:\n",
    "\n",
    "a.\tImport the necessary packages\n",
    "\n",
    "b.\tLoad the training and testing data \n",
    "\n",
    "c.\tDefine the network architecture using Keras \n",
    "\n",
    "d.\tTrain the model using SGD/Adam optimizer\n",
    "\n",
    "e.\tEvaluate the network  \n",
    "\n",
    "f.\tPlot the training loss and accuracy\n"
   ]
  },
  {
   "cell_type": "code",
   "execution_count": 1,
   "metadata": {},
   "outputs": [],
   "source": [
    "import pandas as pd\n",
    "import numpy as np\n",
    "import matplotlib.pyplot as plt\n",
    "\n",
    "cifar_train = pd.read_csv(r'./content/cifar_train.csv')\n",
    "cifar_test = pd.read_csv(r'./content/cifar_test.csv')"
   ]
  },
  {
   "cell_type": "code",
   "execution_count": 2,
   "metadata": {},
   "outputs": [
    {
     "data": {
      "text/html": [
       "<div>\n",
       "<style scoped>\n",
       "    .dataframe tbody tr th:only-of-type {\n",
       "        vertical-align: middle;\n",
       "    }\n",
       "\n",
       "    .dataframe tbody tr th {\n",
       "        vertical-align: top;\n",
       "    }\n",
       "\n",
       "    .dataframe thead th {\n",
       "        text-align: right;\n",
       "    }\n",
       "</style>\n",
       "<table border=\"1\" class=\"dataframe\">\n",
       "  <thead>\n",
       "    <tr style=\"text-align: right;\">\n",
       "      <th></th>\n",
       "      <th>pixel_0</th>\n",
       "      <th>pixel_1</th>\n",
       "      <th>pixel_2</th>\n",
       "      <th>pixel_3</th>\n",
       "      <th>pixel_4</th>\n",
       "      <th>pixel_5</th>\n",
       "      <th>pixel_6</th>\n",
       "      <th>pixel_7</th>\n",
       "      <th>pixel_8</th>\n",
       "      <th>pixel_9</th>\n",
       "      <th>...</th>\n",
       "      <th>pixel_3063</th>\n",
       "      <th>pixel_3064</th>\n",
       "      <th>pixel_3065</th>\n",
       "      <th>pixel_3066</th>\n",
       "      <th>pixel_3067</th>\n",
       "      <th>pixel_3068</th>\n",
       "      <th>pixel_3069</th>\n",
       "      <th>pixel_3070</th>\n",
       "      <th>pixel_3071</th>\n",
       "      <th>label</th>\n",
       "    </tr>\n",
       "  </thead>\n",
       "  <tbody>\n",
       "    <tr>\n",
       "      <th>0</th>\n",
       "      <td>59</td>\n",
       "      <td>43</td>\n",
       "      <td>50</td>\n",
       "      <td>68</td>\n",
       "      <td>98</td>\n",
       "      <td>119</td>\n",
       "      <td>139</td>\n",
       "      <td>145</td>\n",
       "      <td>149</td>\n",
       "      <td>149</td>\n",
       "      <td>...</td>\n",
       "      <td>58</td>\n",
       "      <td>65</td>\n",
       "      <td>59</td>\n",
       "      <td>46</td>\n",
       "      <td>57</td>\n",
       "      <td>104</td>\n",
       "      <td>140</td>\n",
       "      <td>84</td>\n",
       "      <td>72</td>\n",
       "      <td>6</td>\n",
       "    </tr>\n",
       "    <tr>\n",
       "      <th>1</th>\n",
       "      <td>154</td>\n",
       "      <td>126</td>\n",
       "      <td>105</td>\n",
       "      <td>102</td>\n",
       "      <td>125</td>\n",
       "      <td>155</td>\n",
       "      <td>172</td>\n",
       "      <td>180</td>\n",
       "      <td>142</td>\n",
       "      <td>111</td>\n",
       "      <td>...</td>\n",
       "      <td>42</td>\n",
       "      <td>67</td>\n",
       "      <td>101</td>\n",
       "      <td>122</td>\n",
       "      <td>133</td>\n",
       "      <td>136</td>\n",
       "      <td>139</td>\n",
       "      <td>142</td>\n",
       "      <td>144</td>\n",
       "      <td>9</td>\n",
       "    </tr>\n",
       "    <tr>\n",
       "      <th>2</th>\n",
       "      <td>255</td>\n",
       "      <td>253</td>\n",
       "      <td>253</td>\n",
       "      <td>253</td>\n",
       "      <td>253</td>\n",
       "      <td>253</td>\n",
       "      <td>253</td>\n",
       "      <td>253</td>\n",
       "      <td>253</td>\n",
       "      <td>253</td>\n",
       "      <td>...</td>\n",
       "      <td>83</td>\n",
       "      <td>80</td>\n",
       "      <td>69</td>\n",
       "      <td>66</td>\n",
       "      <td>72</td>\n",
       "      <td>79</td>\n",
       "      <td>83</td>\n",
       "      <td>83</td>\n",
       "      <td>84</td>\n",
       "      <td>9</td>\n",
       "    </tr>\n",
       "    <tr>\n",
       "      <th>3</th>\n",
       "      <td>28</td>\n",
       "      <td>37</td>\n",
       "      <td>38</td>\n",
       "      <td>42</td>\n",
       "      <td>44</td>\n",
       "      <td>40</td>\n",
       "      <td>40</td>\n",
       "      <td>24</td>\n",
       "      <td>32</td>\n",
       "      <td>43</td>\n",
       "      <td>...</td>\n",
       "      <td>39</td>\n",
       "      <td>59</td>\n",
       "      <td>42</td>\n",
       "      <td>44</td>\n",
       "      <td>48</td>\n",
       "      <td>38</td>\n",
       "      <td>28</td>\n",
       "      <td>37</td>\n",
       "      <td>46</td>\n",
       "      <td>4</td>\n",
       "    </tr>\n",
       "    <tr>\n",
       "      <th>4</th>\n",
       "      <td>170</td>\n",
       "      <td>168</td>\n",
       "      <td>177</td>\n",
       "      <td>183</td>\n",
       "      <td>181</td>\n",
       "      <td>177</td>\n",
       "      <td>181</td>\n",
       "      <td>184</td>\n",
       "      <td>189</td>\n",
       "      <td>189</td>\n",
       "      <td>...</td>\n",
       "      <td>88</td>\n",
       "      <td>85</td>\n",
       "      <td>82</td>\n",
       "      <td>83</td>\n",
       "      <td>79</td>\n",
       "      <td>78</td>\n",
       "      <td>82</td>\n",
       "      <td>78</td>\n",
       "      <td>80</td>\n",
       "      <td>1</td>\n",
       "    </tr>\n",
       "  </tbody>\n",
       "</table>\n",
       "<p>5 rows × 3073 columns</p>\n",
       "</div>"
      ],
      "text/plain": [
       "   pixel_0  pixel_1  pixel_2  pixel_3  pixel_4  pixel_5  pixel_6  pixel_7  \\\n",
       "0       59       43       50       68       98      119      139      145   \n",
       "1      154      126      105      102      125      155      172      180   \n",
       "2      255      253      253      253      253      253      253      253   \n",
       "3       28       37       38       42       44       40       40       24   \n",
       "4      170      168      177      183      181      177      181      184   \n",
       "\n",
       "   pixel_8  pixel_9  ...  pixel_3063  pixel_3064  pixel_3065  pixel_3066  \\\n",
       "0      149      149  ...          58          65          59          46   \n",
       "1      142      111  ...          42          67         101         122   \n",
       "2      253      253  ...          83          80          69          66   \n",
       "3       32       43  ...          39          59          42          44   \n",
       "4      189      189  ...          88          85          82          83   \n",
       "\n",
       "   pixel_3067  pixel_3068  pixel_3069  pixel_3070  pixel_3071  label  \n",
       "0          57         104         140          84          72      6  \n",
       "1         133         136         139         142         144      9  \n",
       "2          72          79          83          83          84      9  \n",
       "3          48          38          28          37          46      4  \n",
       "4          79          78          82          78          80      1  \n",
       "\n",
       "[5 rows x 3073 columns]"
      ]
     },
     "execution_count": 2,
     "metadata": {},
     "output_type": "execute_result"
    }
   ],
   "source": [
    "cifar_train.head()"
   ]
  },
  {
   "cell_type": "code",
   "execution_count": 3,
   "metadata": {},
   "outputs": [
    {
     "name": "stdout",
     "output_type": "stream",
     "text": [
      "<class 'pandas.core.frame.DataFrame'>\n",
      "RangeIndex: 50000 entries, 0 to 49999\n",
      "Columns: 3073 entries, pixel_0 to label\n",
      "dtypes: int64(3073)\n",
      "memory usage: 1.1 GB\n"
     ]
    }
   ],
   "source": [
    "cifar_train.info()"
   ]
  },
  {
   "cell_type": "code",
   "execution_count": 4,
   "metadata": {},
   "outputs": [
    {
     "data": {
      "text/html": [
       "<div>\n",
       "<style scoped>\n",
       "    .dataframe tbody tr th:only-of-type {\n",
       "        vertical-align: middle;\n",
       "    }\n",
       "\n",
       "    .dataframe tbody tr th {\n",
       "        vertical-align: top;\n",
       "    }\n",
       "\n",
       "    .dataframe thead th {\n",
       "        text-align: right;\n",
       "    }\n",
       "</style>\n",
       "<table border=\"1\" class=\"dataframe\">\n",
       "  <thead>\n",
       "    <tr style=\"text-align: right;\">\n",
       "      <th></th>\n",
       "      <th>pixel_0</th>\n",
       "      <th>pixel_1</th>\n",
       "      <th>pixel_2</th>\n",
       "      <th>pixel_3</th>\n",
       "      <th>pixel_4</th>\n",
       "      <th>pixel_5</th>\n",
       "      <th>pixel_6</th>\n",
       "      <th>pixel_7</th>\n",
       "      <th>pixel_8</th>\n",
       "      <th>pixel_9</th>\n",
       "      <th>...</th>\n",
       "      <th>pixel_3062</th>\n",
       "      <th>pixel_3063</th>\n",
       "      <th>pixel_3064</th>\n",
       "      <th>pixel_3065</th>\n",
       "      <th>pixel_3066</th>\n",
       "      <th>pixel_3067</th>\n",
       "      <th>pixel_3068</th>\n",
       "      <th>pixel_3069</th>\n",
       "      <th>pixel_3070</th>\n",
       "      <th>pixel_3071</th>\n",
       "    </tr>\n",
       "  </thead>\n",
       "  <tbody>\n",
       "    <tr>\n",
       "      <th>0</th>\n",
       "      <td>158</td>\n",
       "      <td>159</td>\n",
       "      <td>165</td>\n",
       "      <td>166</td>\n",
       "      <td>160</td>\n",
       "      <td>156</td>\n",
       "      <td>162</td>\n",
       "      <td>159</td>\n",
       "      <td>158</td>\n",
       "      <td>159</td>\n",
       "      <td>...</td>\n",
       "      <td>130</td>\n",
       "      <td>123</td>\n",
       "      <td>145</td>\n",
       "      <td>167</td>\n",
       "      <td>182</td>\n",
       "      <td>175</td>\n",
       "      <td>145</td>\n",
       "      <td>124</td>\n",
       "      <td>129</td>\n",
       "      <td>110</td>\n",
       "    </tr>\n",
       "    <tr>\n",
       "      <th>1</th>\n",
       "      <td>235</td>\n",
       "      <td>231</td>\n",
       "      <td>232</td>\n",
       "      <td>232</td>\n",
       "      <td>232</td>\n",
       "      <td>232</td>\n",
       "      <td>232</td>\n",
       "      <td>232</td>\n",
       "      <td>232</td>\n",
       "      <td>232</td>\n",
       "      <td>...</td>\n",
       "      <td>108</td>\n",
       "      <td>117</td>\n",
       "      <td>123</td>\n",
       "      <td>133</td>\n",
       "      <td>141</td>\n",
       "      <td>153</td>\n",
       "      <td>163</td>\n",
       "      <td>178</td>\n",
       "      <td>191</td>\n",
       "      <td>199</td>\n",
       "    </tr>\n",
       "    <tr>\n",
       "      <th>2</th>\n",
       "      <td>158</td>\n",
       "      <td>158</td>\n",
       "      <td>139</td>\n",
       "      <td>132</td>\n",
       "      <td>166</td>\n",
       "      <td>182</td>\n",
       "      <td>187</td>\n",
       "      <td>193</td>\n",
       "      <td>199</td>\n",
       "      <td>205</td>\n",
       "      <td>...</td>\n",
       "      <td>45</td>\n",
       "      <td>46</td>\n",
       "      <td>44</td>\n",
       "      <td>44</td>\n",
       "      <td>43</td>\n",
       "      <td>52</td>\n",
       "      <td>37</td>\n",
       "      <td>8</td>\n",
       "      <td>3</td>\n",
       "      <td>7</td>\n",
       "    </tr>\n",
       "    <tr>\n",
       "      <th>3</th>\n",
       "      <td>155</td>\n",
       "      <td>167</td>\n",
       "      <td>176</td>\n",
       "      <td>190</td>\n",
       "      <td>177</td>\n",
       "      <td>166</td>\n",
       "      <td>168</td>\n",
       "      <td>166</td>\n",
       "      <td>170</td>\n",
       "      <td>179</td>\n",
       "      <td>...</td>\n",
       "      <td>52</td>\n",
       "      <td>55</td>\n",
       "      <td>70</td>\n",
       "      <td>103</td>\n",
       "      <td>105</td>\n",
       "      <td>72</td>\n",
       "      <td>53</td>\n",
       "      <td>50</td>\n",
       "      <td>52</td>\n",
       "      <td>50</td>\n",
       "    </tr>\n",
       "    <tr>\n",
       "      <th>4</th>\n",
       "      <td>65</td>\n",
       "      <td>70</td>\n",
       "      <td>48</td>\n",
       "      <td>30</td>\n",
       "      <td>23</td>\n",
       "      <td>40</td>\n",
       "      <td>44</td>\n",
       "      <td>45</td>\n",
       "      <td>45</td>\n",
       "      <td>40</td>\n",
       "      <td>...</td>\n",
       "      <td>102</td>\n",
       "      <td>127</td>\n",
       "      <td>156</td>\n",
       "      <td>139</td>\n",
       "      <td>131</td>\n",
       "      <td>130</td>\n",
       "      <td>147</td>\n",
       "      <td>136</td>\n",
       "      <td>146</td>\n",
       "      <td>117</td>\n",
       "    </tr>\n",
       "  </tbody>\n",
       "</table>\n",
       "<p>5 rows × 3072 columns</p>\n",
       "</div>"
      ],
      "text/plain": [
       "   pixel_0  pixel_1  pixel_2  pixel_3  pixel_4  pixel_5  pixel_6  pixel_7  \\\n",
       "0      158      159      165      166      160      156      162      159   \n",
       "1      235      231      232      232      232      232      232      232   \n",
       "2      158      158      139      132      166      182      187      193   \n",
       "3      155      167      176      190      177      166      168      166   \n",
       "4       65       70       48       30       23       40       44       45   \n",
       "\n",
       "   pixel_8  pixel_9  ...  pixel_3062  pixel_3063  pixel_3064  pixel_3065  \\\n",
       "0      158      159  ...         130         123         145         167   \n",
       "1      232      232  ...         108         117         123         133   \n",
       "2      199      205  ...          45          46          44          44   \n",
       "3      170      179  ...          52          55          70         103   \n",
       "4       45       40  ...         102         127         156         139   \n",
       "\n",
       "   pixel_3066  pixel_3067  pixel_3068  pixel_3069  pixel_3070  pixel_3071  \n",
       "0         182         175         145         124         129         110  \n",
       "1         141         153         163         178         191         199  \n",
       "2          43          52          37           8           3           7  \n",
       "3         105          72          53          50          52          50  \n",
       "4         131         130         147         136         146         117  \n",
       "\n",
       "[5 rows x 3072 columns]"
      ]
     },
     "execution_count": 4,
     "metadata": {},
     "output_type": "execute_result"
    }
   ],
   "source": [
    "cifar_test.head()"
   ]
  },
  {
   "cell_type": "code",
   "execution_count": 5,
   "metadata": {},
   "outputs": [
    {
     "name": "stdout",
     "output_type": "stream",
     "text": [
      "<class 'pandas.core.frame.DataFrame'>\n",
      "RangeIndex: 10000 entries, 0 to 9999\n",
      "Columns: 3072 entries, pixel_0 to pixel_3071\n",
      "dtypes: int64(3072)\n",
      "memory usage: 234.4 MB\n"
     ]
    }
   ],
   "source": [
    "cifar_test.info()"
   ]
  },
  {
   "cell_type": "code",
   "execution_count": 6,
   "metadata": {},
   "outputs": [
    {
     "data": {
      "text/plain": [
       "3072"
      ]
     },
     "execution_count": 6,
     "metadata": {},
     "output_type": "execute_result"
    }
   ],
   "source": [
    "32*32*3 # hence 3 channels"
   ]
  },
  {
   "cell_type": "code",
   "execution_count": 7,
   "metadata": {},
   "outputs": [],
   "source": [
    "def printShape(x, y):\n",
    "    print(\"Shape = {0} and {1}\".format(x.shape,y.shape))"
   ]
  },
  {
   "cell_type": "code",
   "execution_count": 8,
   "metadata": {},
   "outputs": [
    {
     "name": "stdout",
     "output_type": "stream",
     "text": [
      "Shape = (40000, 3072) and (40000,)\n"
     ]
    }
   ],
   "source": [
    "x_train = cifar_train.iloc[:40000, :3072]\n",
    "y_train = cifar_train.iloc[:40000, 3072]\n",
    "\n",
    "printShape(x_train, y_train)"
   ]
  },
  {
   "cell_type": "code",
   "execution_count": 39,
   "metadata": {},
   "outputs": [
    {
     "name": "stdout",
     "output_type": "stream",
     "text": [
      "Shape = (40000, 32, 32, 3) and (40000, 10)\n",
      "<class 'numpy.ndarray'>\n"
     ]
    }
   ],
   "source": [
    "x_train = pd.DataFrame.to_numpy(x_train)\n",
    "y_train = pd.DataFrame.to_numpy(y_train)\n",
    "\n",
    "printShape(x_train, y_train)\n",
    "print(type(x_train))"
   ]
  },
  {
   "cell_type": "code",
   "execution_count": 10,
   "metadata": {},
   "outputs": [
    {
     "name": "stdout",
     "output_type": "stream",
     "text": [
      "Shape = (10000, 3072) and (10000,)\n",
      "<class 'numpy.ndarray'>\n"
     ]
    }
   ],
   "source": [
    "x_test = np.array(cifar_train.iloc[40000:, :3072])\n",
    "y_test = np.array(cifar_train.iloc[40000: , 3072])\n",
    "\n",
    "printShape(x_test, y_test)\n",
    "print(type(x_test))"
   ]
  },
  {
   "cell_type": "code",
   "execution_count": 11,
   "metadata": {},
   "outputs": [],
   "source": [
    "from keras.models import Sequential\n",
    "from keras.layers import Dense\n",
    "from keras.optimizers import SGD\n",
    "from keras.utils import to_categorical\n",
    "from sklearn.metrics import classification_report"
   ]
  },
  {
   "cell_type": "code",
   "execution_count": 12,
   "metadata": {},
   "outputs": [],
   "source": [
    "x_train = x_train/255.0\n",
    "x_test = x_test/255.0\n",
    "\n",
    "y_train = to_categorical(y_train, num_classes=10)\n",
    "y_test = to_categorical(y_test, num_classes=10)"
   ]
  },
  {
   "cell_type": "code",
   "execution_count": 13,
   "metadata": {},
   "outputs": [],
   "source": [
    "# model building\n",
    "m1 = Sequential()\n",
    "m1.add(Dense(512, activation='sigmoid'))\n",
    "m1.add(Dense(256, activation='relu'))\n",
    "m1.add(Dense(128, activation='relu'))\n",
    "m1.add(Dense(64, activation='relu'))\n",
    "m1.add(Dense(32, activation='relu'))\n",
    "m1.add(Dense(10, activation='softmax'))"
   ]
  },
  {
   "cell_type": "code",
   "execution_count": 14,
   "metadata": {},
   "outputs": [],
   "source": [
    "m1.compile(loss='categorical_crossentropy', optimizer=SGD(), metrics=['accuracy'])"
   ]
  },
  {
   "cell_type": "code",
   "execution_count": 15,
   "metadata": {},
   "outputs": [
    {
     "name": "stdout",
     "output_type": "stream",
     "text": [
      "Epoch 1/10\n",
      "334/334 [==============================] - 6s 10ms/step - loss: 2.2468 - accuracy: 0.1767 - val_loss: 2.1798 - val_accuracy: 0.2211\n",
      "Epoch 2/10\n",
      "334/334 [==============================] - 2s 7ms/step - loss: 2.0994 - accuracy: 0.2334 - val_loss: 2.0376 - val_accuracy: 0.2629\n",
      "Epoch 3/10\n",
      "334/334 [==============================] - 2s 7ms/step - loss: 2.0040 - accuracy: 0.2654 - val_loss: 1.9909 - val_accuracy: 0.2741\n",
      "Epoch 4/10\n",
      "334/334 [==============================] - 2s 7ms/step - loss: 1.9466 - accuracy: 0.2998 - val_loss: 1.9322 - val_accuracy: 0.3102\n",
      "Epoch 5/10\n",
      "334/334 [==============================] - 2s 7ms/step - loss: 1.9045 - accuracy: 0.3190 - val_loss: 1.9212 - val_accuracy: 0.3009\n",
      "Epoch 6/10\n",
      "334/334 [==============================] - 2s 7ms/step - loss: 1.8729 - accuracy: 0.3309 - val_loss: 1.9238 - val_accuracy: 0.2980\n",
      "Epoch 7/10\n",
      "334/334 [==============================] - 2s 7ms/step - loss: 1.8502 - accuracy: 0.3401 - val_loss: 1.9543 - val_accuracy: 0.2931\n",
      "Epoch 8/10\n",
      "334/334 [==============================] - 2s 7ms/step - loss: 1.8263 - accuracy: 0.3507 - val_loss: 1.8542 - val_accuracy: 0.3404\n",
      "Epoch 9/10\n",
      "334/334 [==============================] - 2s 7ms/step - loss: 1.8049 - accuracy: 0.3566 - val_loss: 1.8058 - val_accuracy: 0.3631\n",
      "Epoch 10/10\n",
      "334/334 [==============================] - 2s 7ms/step - loss: 1.7886 - accuracy: 0.3601 - val_loss: 1.8101 - val_accuracy: 0.3510\n"
     ]
    }
   ],
   "source": [
    "h1 = m1.fit(x=x_train, y=y_train, epochs=10, batch_size=120, validation_data=(x_test, y_test))"
   ]
  },
  {
   "cell_type": "code",
   "execution_count": 16,
   "metadata": {},
   "outputs": [
    {
     "name": "stdout",
     "output_type": "stream",
     "text": [
      "Model: \"sequential\"\n",
      "_________________________________________________________________\n",
      " Layer (type)                Output Shape              Param #   \n",
      "=================================================================\n",
      " dense (Dense)               (None, 512)               1573376   \n",
      "                                                                 \n",
      " dense_1 (Dense)             (None, 256)               131328    \n",
      "                                                                 \n",
      " dense_2 (Dense)             (None, 128)               32896     \n",
      "                                                                 \n",
      " dense_3 (Dense)             (None, 64)                8256      \n",
      "                                                                 \n",
      " dense_4 (Dense)             (None, 32)                2080      \n",
      "                                                                 \n",
      " dense_5 (Dense)             (None, 10)                330       \n",
      "                                                                 \n",
      "=================================================================\n",
      "Total params: 1,748,266\n",
      "Trainable params: 1,748,266\n",
      "Non-trainable params: 0\n",
      "_________________________________________________________________\n"
     ]
    }
   ],
   "source": [
    "m1.summary()"
   ]
  },
  {
   "cell_type": "code",
   "execution_count": 22,
   "metadata": {},
   "outputs": [
    {
     "data": {
      "text/plain": [
       "(10,)"
      ]
     },
     "execution_count": 22,
     "metadata": {},
     "output_type": "execute_result"
    }
   ],
   "source": [
    "xaxis=np.arange(0,10)\n",
    "type(xaxis)\n",
    "xaxis.shape"
   ]
  },
  {
   "cell_type": "code",
   "execution_count": 23,
   "metadata": {},
   "outputs": [
    {
     "data": {
      "text/plain": [
       "list"
      ]
     },
     "execution_count": 23,
     "metadata": {},
     "output_type": "execute_result"
    }
   ],
   "source": [
    "type(h1.history['loss'])"
   ]
  },
  {
   "cell_type": "code",
   "execution_count": 24,
   "metadata": {},
   "outputs": [
    {
     "data": {
      "text/plain": [
       "<matplotlib.legend.Legend at 0x1b9cba000d0>"
      ]
     },
     "execution_count": 24,
     "metadata": {},
     "output_type": "execute_result"
    },
    {
     "data": {
      "image/png": "[encoded data removed]",
      "text/plain": [
       "<Figure size 432x288 with 1 Axes>"
      ]
     },
     "metadata": {},
     "output_type": "display_data"
    }
   ],
   "source": [
    "plt.style.use('ggplot')\n",
    "\n",
    "plt.plot(xaxis, h1.history['loss'], label='training loss')\n",
    "plt.plot(xaxis, h1.history['val_loss'], label='val loss')\n",
    "plt.plot(xaxis, h1.history['accuracy'], label='training accuracy')\n",
    "plt.plot(xaxis, h1.history['val_accuracy'], label='val accuracy')\n",
    "plt.legend()"
   ]
  },
  {
   "cell_type": "code",
   "execution_count": 25,
   "metadata": {
    "scrolled": true
   },
   "outputs": [
    {
     "name": "stdout",
     "output_type": "stream",
     "text": [
      "313/313 [==============================] - 1s 3ms/step - loss: 1.8101 - accuracy: 0.3510\n",
      "Accuracy =  35.100001096725464\n"
     ]
    }
   ],
   "source": [
    "print(\"Accuracy = \", m1.evaluate(x_test, y_test)[1]*100)"
   ]
  },
  {
   "cell_type": "code",
   "execution_count": 26,
   "metadata": {},
   "outputs": [
    {
     "name": "stdout",
     "output_type": "stream",
     "text": [
      "313/313 [==============================] - 1s 2ms/step\n",
      "              precision    recall  f1-score   support\n",
      "\n",
      "           0       0.46      0.41      0.43      1014\n",
      "           1       0.52      0.25      0.34      1014\n",
      "           2       0.25      0.09      0.14       952\n",
      "           3       0.22      0.18      0.20      1016\n",
      "           4       0.31      0.31      0.31       997\n",
      "           5       0.33      0.40      0.36      1025\n",
      "           6       0.34      0.46      0.39       980\n",
      "           7       0.27      0.51      0.36       977\n",
      "           8       0.48      0.38      0.43      1003\n",
      "           9       0.42      0.51      0.46      1022\n",
      "\n",
      "    accuracy                           0.35     10000\n",
      "   macro avg       0.36      0.35      0.34     10000\n",
      "weighted avg       0.36      0.35      0.34     10000\n",
      "\n"
     ]
    }
   ],
   "source": [
    "print(classification_report(y_test.argmax(axis=1), (m1.predict(x_test)).argmax(axis=1), labels=np.arange(0,10) ))"
   ]
  },
  {
   "cell_type": "markdown",
   "metadata": {},
   "source": [
    "4.\n",
    "Implement the CNN model for classifying CIFAR10 image dataset by dividing the model into following 4 stages:\n",
    "\n",
    "a.\tLoading and preprocessing the image data\n",
    "\n",
    "b.\tDefining the model's architecture\n",
    "\n",
    "c.\tTraining the model\n",
    "\n",
    "d.\tEstimating the model's performance\n"
   ]
  },
  {
   "cell_type": "code",
   "execution_count": 27,
   "metadata": {},
   "outputs": [
    {
     "name": "stdout",
     "output_type": "stream",
     "text": [
      "Shape = (40000, 3072) and (40000, 10)\n"
     ]
    }
   ],
   "source": [
    "printShape(x_train, y_train)"
   ]
  },
  {
   "cell_type": "code",
   "execution_count": 28,
   "metadata": {},
   "outputs": [
    {
     "name": "stdout",
     "output_type": "stream",
     "text": [
      "Shape = (10000, 3072) and (10000, 10)\n"
     ]
    }
   ],
   "source": [
    "printShape(x_test, y_test)"
   ]
  },
  {
   "cell_type": "code",
   "execution_count": 29,
   "metadata": {},
   "outputs": [
    {
     "name": "stdout",
     "output_type": "stream",
     "text": [
      "Shape = (40000, 32, 32, 3) and (40000, 10)\n"
     ]
    }
   ],
   "source": [
    "x_train = x_train.reshape(-1, 32,32,3)\n",
    "printShape(x_train, y_train)"
   ]
  },
  {
   "cell_type": "code",
   "execution_count": 30,
   "metadata": {},
   "outputs": [
    {
     "name": "stdout",
     "output_type": "stream",
     "text": [
      "Shape = (10000, 32, 32, 3) and (10000, 10)\n"
     ]
    }
   ],
   "source": [
    "x_test = x_test.reshape(-1, 32,32,3)\n",
    "printShape(x_test, y_test)"
   ]
  },
  {
   "cell_type": "code",
   "execution_count": 31,
   "metadata": {},
   "outputs": [],
   "source": [
    "from keras.layers import Conv2D, Dropout, MaxPool2D, Flatten"
   ]
  },
  {
   "cell_type": "code",
   "execution_count": 32,
   "metadata": {},
   "outputs": [],
   "source": [
    "m2 = Sequential()\n",
    "m2.add(Conv2D(filters=32, kernel_size=(3,3), input_shape=(32,32,3), activation='relu'))\n",
    "m2.add(MaxPool2D(pool_size=(2,2)))\n",
    "m2.add(Dropout(0.1))\n",
    "m2.add(Conv2D(filters=64, kernel_size=(3,3), activation='relu'))\n",
    "m2.add(MaxPool2D(pool_size=(2,2)))\n",
    "m2.add(Dropout(0.25))\n",
    "m2.add(Flatten())\n",
    "m2.add(Dense(128, activation='relu'))\n",
    "m2.add(Dense(10, activation='softmax'))"
   ]
  },
  {
   "cell_type": "code",
   "execution_count": 33,
   "metadata": {},
   "outputs": [],
   "source": [
    "m2.compile(loss='categorical_crossentropy', metrics=['accuracy'], optimizer='adam')"
   ]
  },
  {
   "cell_type": "code",
   "execution_count": 34,
   "metadata": {},
   "outputs": [
    {
     "name": "stdout",
     "output_type": "stream",
     "text": [
      "Model: \"sequential_1\"\n",
      "_________________________________________________________________\n",
      " Layer (type)                Output Shape              Param #   \n",
      "=================================================================\n",
      " conv2d (Conv2D)             (None, 30, 30, 32)        896       \n",
      "                                                                 \n",
      " max_pooling2d (MaxPooling2D  (None, 15, 15, 32)       0         \n",
      " )                                                               \n",
      "                                                                 \n",
      " dropout (Dropout)           (None, 15, 15, 32)        0         \n",
      "                                                                 \n",
      " conv2d_1 (Conv2D)           (None, 13, 13, 64)        18496     \n",
      "                                                                 \n",
      " max_pooling2d_1 (MaxPooling  (None, 6, 6, 64)         0         \n",
      " 2D)                                                             \n",
      "                                                                 \n",
      " dropout_1 (Dropout)         (None, 6, 6, 64)          0         \n",
      "                                                                 \n",
      " flatten (Flatten)           (None, 2304)              0         \n",
      "                                                                 \n",
      " dense_6 (Dense)             (None, 128)               295040    \n",
      "                                                                 \n",
      " dense_7 (Dense)             (None, 10)                1290      \n",
      "                                                                 \n",
      "=================================================================\n",
      "Total params: 315,722\n",
      "Trainable params: 315,722\n",
      "Non-trainable params: 0\n",
      "_________________________________________________________________\n"
     ]
    }
   ],
   "source": [
    "m2.summary()"
   ]
  },
  {
   "cell_type": "code",
   "execution_count": 35,
   "metadata": {},
   "outputs": [
    {
     "name": "stdout",
     "output_type": "stream",
     "text": [
      "Epoch 1/30\n",
      "313/313 [==============================] - 12s 25ms/step - loss: 1.7643 - accuracy: 0.3702 - val_loss: 1.5104 - val_accuracy: 0.4709\n",
      "Epoch 2/30\n",
      "313/313 [==============================] - 7s 22ms/step - loss: 1.4484 - accuracy: 0.4863 - val_loss: 1.3758 - val_accuracy: 0.5155\n",
      "Epoch 3/30\n",
      "313/313 [==============================] - 7s 22ms/step - loss: 1.3331 - accuracy: 0.5305 - val_loss: 1.2703 - val_accuracy: 0.5505\n",
      "Epoch 4/30\n",
      "313/313 [==============================] - 8s 24ms/step - loss: 1.2618 - accuracy: 0.5552 - val_loss: 1.2259 - val_accuracy: 0.5713\n",
      "Epoch 5/30\n",
      "313/313 [==============================] - 8s 26ms/step - loss: 1.1912 - accuracy: 0.5816 - val_loss: 1.1864 - val_accuracy: 0.5904\n",
      "Epoch 6/30\n",
      "313/313 [==============================] - 9s 28ms/step - loss: 1.1519 - accuracy: 0.5959 - val_loss: 1.1441 - val_accuracy: 0.5979\n",
      "Epoch 7/30\n",
      "313/313 [==============================] - 12s 39ms/step - loss: 1.1089 - accuracy: 0.6089 - val_loss: 1.1114 - val_accuracy: 0.6118\n",
      "Epoch 8/30\n",
      "313/313 [==============================] - 9s 30ms/step - loss: 1.0768 - accuracy: 0.6204 - val_loss: 1.0887 - val_accuracy: 0.6183\n",
      "Epoch 9/30\n",
      "313/313 [==============================] - 9s 29ms/step - loss: 1.0402 - accuracy: 0.6327 - val_loss: 1.0692 - val_accuracy: 0.6262\n",
      "Epoch 10/30\n",
      "313/313 [==============================] - 9s 28ms/step - loss: 1.0111 - accuracy: 0.6427 - val_loss: 1.0571 - val_accuracy: 0.6292\n",
      "Epoch 11/30\n",
      "313/313 [==============================] - 9s 28ms/step - loss: 0.9836 - accuracy: 0.6538 - val_loss: 1.0559 - val_accuracy: 0.6342\n",
      "Epoch 12/30\n",
      "313/313 [==============================] - 9s 27ms/step - loss: 0.9577 - accuracy: 0.6641 - val_loss: 1.0594 - val_accuracy: 0.6345\n",
      "Epoch 13/30\n",
      "313/313 [==============================] - 9s 28ms/step - loss: 0.9289 - accuracy: 0.6733 - val_loss: 1.0322 - val_accuracy: 0.6386\n",
      "Epoch 14/30\n",
      "313/313 [==============================] - 9s 30ms/step - loss: 0.9013 - accuracy: 0.6834 - val_loss: 1.0356 - val_accuracy: 0.6339\n",
      "Epoch 15/30\n",
      "313/313 [==============================] - 9s 28ms/step - loss: 0.8888 - accuracy: 0.6867 - val_loss: 0.9964 - val_accuracy: 0.6554\n",
      "Epoch 16/30\n",
      "313/313 [==============================] - 10s 31ms/step - loss: 0.8659 - accuracy: 0.6966 - val_loss: 1.0134 - val_accuracy: 0.6469\n",
      "Epoch 17/30\n",
      "313/313 [==============================] - 10s 32ms/step - loss: 0.8401 - accuracy: 0.7038 - val_loss: 0.9896 - val_accuracy: 0.6554\n",
      "Epoch 18/30\n",
      "313/313 [==============================] - 9s 29ms/step - loss: 0.8220 - accuracy: 0.7111 - val_loss: 0.9892 - val_accuracy: 0.6592\n",
      "Epoch 19/30\n",
      "313/313 [==============================] - 10s 32ms/step - loss: 0.7979 - accuracy: 0.7193 - val_loss: 1.0006 - val_accuracy: 0.6584\n",
      "Epoch 20/30\n",
      "313/313 [==============================] - 9s 30ms/step - loss: 0.7856 - accuracy: 0.7244 - val_loss: 0.9930 - val_accuracy: 0.6612\n",
      "Epoch 21/30\n",
      "313/313 [==============================] - 10s 33ms/step - loss: 0.7630 - accuracy: 0.7304 - val_loss: 1.0015 - val_accuracy: 0.6568\n",
      "Epoch 22/30\n",
      "313/313 [==============================] - 10s 32ms/step - loss: 0.7475 - accuracy: 0.7365 - val_loss: 0.9936 - val_accuracy: 0.6670\n",
      "Epoch 23/30\n",
      "313/313 [==============================] - 10s 32ms/step - loss: 0.7324 - accuracy: 0.7408 - val_loss: 1.0007 - val_accuracy: 0.6591\n",
      "Epoch 24/30\n",
      "313/313 [==============================] - 10s 32ms/step - loss: 0.7101 - accuracy: 0.7508 - val_loss: 0.9903 - val_accuracy: 0.6613\n",
      "Epoch 25/30\n",
      "313/313 [==============================] - 10s 32ms/step - loss: 0.6988 - accuracy: 0.7555 - val_loss: 1.0063 - val_accuracy: 0.6617\n",
      "Epoch 26/30\n",
      "313/313 [==============================] - 10s 33ms/step - loss: 0.6804 - accuracy: 0.7586 - val_loss: 1.0020 - val_accuracy: 0.6688\n",
      "Epoch 27/30\n",
      "313/313 [==============================] - 10s 32ms/step - loss: 0.6702 - accuracy: 0.7627 - val_loss: 1.0231 - val_accuracy: 0.6538\n",
      "Epoch 28/30\n",
      "313/313 [==============================] - 10s 33ms/step - loss: 0.6534 - accuracy: 0.7673 - val_loss: 1.0141 - val_accuracy: 0.6637\n",
      "Epoch 29/30\n",
      "313/313 [==============================] - 12s 38ms/step - loss: 0.6321 - accuracy: 0.7755 - val_loss: 1.0369 - val_accuracy: 0.6599\n",
      "Epoch 30/30\n",
      "313/313 [==============================] - 12s 38ms/step - loss: 0.6289 - accuracy: 0.7767 - val_loss: 1.0515 - val_accuracy: 0.6545\n"
     ]
    }
   ],
   "source": [
    "h2 = m2.fit(x=x_train, y=y_train, epochs=30, validation_data=(x_test, y_test), batch_size=128)"
   ]
  },
  {
   "cell_type": "code",
   "execution_count": 36,
   "metadata": {},
   "outputs": [
    {
     "data": {
      "text/plain": [
       "<matplotlib.legend.Legend at 0x1b9e3691fa0>"
      ]
     },
     "execution_count": 36,
     "metadata": {},
     "output_type": "execute_result"
    },
    {
     "data": {
      "image/png": "[encoded data removed]",
      "text/plain": [
       "<Figure size 432x288 with 1 Axes>"
      ]
     },
     "metadata": {},
     "output_type": "display_data"
    }
   ],
   "source": [
    "plt.style.use('ggplot')\n",
    "xaxis=np.arange(0,30)\n",
    "plt.plot(xaxis, h2.history['loss'], label='training loss')\n",
    "plt.plot(xaxis, h2.history['val_loss'], label='val loss')\n",
    "plt.plot(xaxis, h2.history['accuracy'], label='training accuracy')\n",
    "plt.plot(xaxis, h2.history['val_accuracy'], label='val accuracy')\n",
    "plt.legend()"
   ]
  },
  {
   "cell_type": "code",
   "execution_count": 37,
   "metadata": {},
   "outputs": [
    {
     "name": "stdout",
     "output_type": "stream",
     "text": [
      "313/313 [==============================] - 1s 3ms/step - loss: 1.0515 - accuracy: 0.6545\n",
      "Accuracy =  65.45000076293945\n"
     ]
    }
   ],
   "source": [
    "print(\"Accuracy = \", m2.evaluate(x_test, y_test)[1]*100)"
   ]
  },
  {
   "cell_type": "code",
   "execution_count": null,
   "metadata": {},
   "outputs": [],
   "source": []
  }
 ],
 "metadata": {
  "kernelspec": {
   "display_name": "Python 3",
   "language": "python",
   "name": "python3"
  },
  "language_info": {
   "codemirror_mode": {
    "name": "ipython",
    "version": 3
   },
   "file_extension": ".py",
   "mimetype": "text/x-python",
   "name": "python",
   "nbconvert_exporter": "python",
   "pygments_lexer": "ipython3",
   "version": "3.8.5"
  }
 },
 "nbformat": 4,
 "nbformat_minor": 5
}
